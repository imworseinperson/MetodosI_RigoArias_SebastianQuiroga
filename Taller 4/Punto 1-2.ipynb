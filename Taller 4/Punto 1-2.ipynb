{
  "metadata": {
    "language_info": {
      "codemirror_mode": {
        "name": "python",
        "version": 3
      },
      "file_extension": ".py",
      "mimetype": "text/x-python",
      "name": "python",
      "nbconvert_exporter": "python",
      "pygments_lexer": "ipython3",
      "version": "3.8"
    },
    "kernelspec": {
      "name": "python",
      "display_name": "Python (Pyodide)",
      "language": "python"
    }
  },
  "nbformat_minor": 4,
  "nbformat": 4,
  "cells": [
    {
      "cell_type": "code",
      "source": "import numpy as np\nimport random\nimport math",
      "metadata": {
        "trusted": true
      },
      "execution_count": 143,
      "outputs": []
    },
    {
      "cell_type": "code",
      "source": "def problema_11a():\n    \n    N = 1000000\n    evento_a_se_cumplio = 0 \n    \n    for i in range(N):\n        \n        picas = 2   # Picas iniciales\n        cartas = np.arange(1,53-picas)\n        np.random.shuffle(cartas)\n        cartas_tomo = cartas[:5-picas]\n        \n        for carta in cartas_tomo:\n            \n            if carta >= 40 and carta <= 52:  # Es una pica\n                picas +=1 \n                \n            else:\n                break\n                \n        if picas == 5:\n            evento_a_se_cumplio += 1\n            \n    return evento_a_se_cumplio / N \n\nprint(problema_11a())\n",
      "metadata": {
        "trusted": true
      },
      "execution_count": 91,
      "outputs": [
        {
          "name": "stdout",
          "text": "0.008625\n",
          "output_type": "stream"
        }
      ]
    },
    {
      "cell_type": "code",
      "source": "def problema_11b():\n    \n    N = 1000000\n    evento_b_se_cumplio = 0 \n    \n    for i in range(N):\n        \n        picas = 3   # Picas iniciales\n        cartas = np.arange(1,53-picas)\n        np.random.shuffle(cartas)\n        cartas_tomo = cartas[:5-picas]\n        \n        for carta in cartas_tomo:\n            \n            if carta >= 40 and carta <= 52:  # Es una pica\n                picas +=1 \n                \n            else:\n                break\n                \n        if picas == 5:\n            evento_b_se_cumplio += 1\n            \n    return evento_b_se_cumplio / N \n\nprint(problema_11b())",
      "metadata": {
        "trusted": true
      },
      "execution_count": 136,
      "outputs": [
        {
          "name": "stdout",
          "text": "0.038151\n",
          "output_type": "stream"
        }
      ]
    },
    {
      "cell_type": "code",
      "source": "def problema_11c():\n    \n    N = 1000000\n    evento_c_se_cumplio = 0 \n    \n    for i in range(N):\n        \n        picas = 4   # Picas iniciales\n        cartas = np.arange(1,53-picas)\n        np.random.shuffle(cartas)\n        cartas_tomo = cartas[:5-picas]\n        \n        for carta in cartas_tomo:\n            \n            if carta >= 40 and carta <= 52:  # Es una pica\n                picas +=1 \n                \n            else:\n                break\n                \n        if picas == 5:\n            evento_c_se_cumplio += 1\n            \n    return evento_c_se_cumplio / N \n\nprint(problema_11c())",
      "metadata": {
        "trusted": true
      },
      "execution_count": 99,
      "outputs": [
        {
          "name": "stdout",
          "text": "0.187341\n",
          "output_type": "stream"
        }
      ]
    },
    {
      "cell_type": "code",
      "source": "def problema_12():\n        \n    N = 1000000\n    evento_se_cumplio = 0\n\n    P_E  = 0.6        # Probabilidad exponerse\n    P_I  = P_E * 0.2  # Probabilidad Inoculado\n    P_NI = P_E * 0.9  # Probabilidad No Inoculado\n            \n    P_NE_I  = 1-P_I   # Probabilidad No Enferme Inoculudo\n    P_NE_NI = 1-P_NI  # Probabilidad No Enferme No Inoculado\n            \n    P_Ninguno_Enferme   = P_NE_I * P_NE_NI\n    P_Almenos_1_Enferme = 1 - P_Ninguno_Enferme\n    evento_se_cumplio = sum(1 for i in range(N) if random.random() <= P_Almenos_1_Enferme)\n            \n    return evento_se_cumplio / N\n        \nprint(problema_12())\n        ",
      "metadata": {
        "trusted": true
      },
      "execution_count": 139,
      "outputs": [
        {
          "name": "stdout",
          "text": "0.595087\n",
          "output_type": "stream"
        }
      ]
    },
    {
      "cell_type": "code",
      "source": "def problema_21():",
      "metadata": {},
      "execution_count": null,
      "outputs": []
    },
    {
      "cell_type": "code",
      "source": "def problema_22a():\n\n    p_obj  = 0.01\n    p_acum = 0\n    gama   = 1/4  # 1 Desconexion cada 4 Horas\n    n      = 0\n    p_n    = (math.exp(-gama) * (gama**n)) / (math.factorial(n))\n    \n    while p_acum < 1 - p_obj:\n        \n        n += 1\n        p_n = p_n\n        p_acum += p_n\n        \n    return n\n\nprint(problema_22a())",
      "metadata": {
        "trusted": true
      },
      "execution_count": 148,
      "outputs": [
        {
          "name": "stdout",
          "text": "0.7788007830714049\n0.7788007830714049\n2\n",
          "output_type": "stream"
        }
      ]
    },
    {
      "cell_type": "code",
      "source": "def problema_22b():\n    \n    p_obj = 0.02\n    h = 0\n    p_0 = 1\n\n    while p_0 >= p_obj:\n        \n        print(p_0)\n        h += 1 \n        p_0= math.exp (-h/4)\n\n    return h\n\nprint(problema_22b())",
      "metadata": {
        "trusted": true
      },
      "execution_count": 154,
      "outputs": [
        {
          "name": "stdout",
          "text": "1\n0.7788007830714049\n0.6065306597126334\n0.4723665527410147\n0.36787944117144233\n0.2865047968601901\n0.22313016014842982\n0.17377394345044514\n0.1353352832366127\n0.10539922456186433\n0.0820849986238988\n0.06392786120670757\n0.049787068367863944\n0.03877420783172201\n0.0301973834223185\n0.023517745856009107\n16\n",
          "output_type": "stream"
        }
      ]
    },
    {
      "cell_type": "code",
      "source": "def problema_22c():\n\n    n = 3\n    k = 1\n    p = math.exp (-4/4)\n\n    # Coeficiente binomial\n    nCk = math.factorial (n) / (math.factorial (k) * math.factorial (n - k))\n\n    # Probabilidad binomial\n    p_binom = nCk * p**k * (1 - p)**(n - k)\n\n    return p_binom\n\nprint(problema_22c())",
      "metadata": {
        "trusted": true
      },
      "execution_count": 157,
      "outputs": [
        {
          "name": "stdout",
          "text": "0.44098782919824264\n",
          "output_type": "stream"
        }
      ]
    },
    {
      "cell_type": "code",
      "source": "def problema_22d():\n    \n    gama = 3\n    n = 3\n\n    p_poisson = math.exp (-gama) * gama**n / math.factorial (n)\n\n    return p_poisson\n\nprint(problema_22d())",
      "metadata": {
        "trusted": true
      },
      "execution_count": 160,
      "outputs": [
        {
          "name": "stdout",
          "text": "0.22404180765538775\n",
          "output_type": "stream"
        }
      ]
    }
  ]
}